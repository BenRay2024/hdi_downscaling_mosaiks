{
 "cells": [
  {
   "cell_type": "code",
   "execution_count": 1,
   "id": "64134d8b",
   "metadata": {},
   "outputs": [],
   "source": [
    "import os\n",
    "repo_dir = os.environ.get(\"REPO_DIR\")\n",
    "code_dir = os.path.join(repo_dir, \"code/\")\n",
    "data_dir = os.path.join(repo_dir, \"data/\")\n",
    "os.chdir(code_dir)\n",
    "\n",
    "import matplotlib.pyplot as plt\n",
    "import numpy as np\n",
    "import pickle\n",
    "import pandas as pd\n",
    "import geopandas as gpd\n",
    "import shapely\n",
    "import fiona\n",
    "\n",
    "from affine import Affine\n",
    "\n",
    "import pandas as pd\n",
    "import rasterio\n",
    "import rasterio.mask\n",
    "from rasterio import warp\n",
    "\n",
    "import warnings\n",
    "\n",
    "from nl_helpers import (apply_polygon_mask_and_return_flat_array, \n",
    "                        correct_nl_df_creation, bins,create_nl_binned_dataframe,\n",
    "                       get_avg_nl_and_weighted_avg_nl,correct_nl_Ys)"
   ]
  },
  {
   "cell_type": "markdown",
   "id": "22b051a4",
   "metadata": {},
   "source": [
    "# For NL downscaling experiment, we want to get mean lumninosity values of various polygons"
   ]
  },
  {
   "cell_type": "markdown",
   "id": "32f244b8",
   "metadata": {},
   "source": [
    "### We need these for ADM2, ADM1, and ADM0 shapes. \n",
    "\n",
    "##### Since it's easy, we're going to get the pop weighted and the area weighted values"
   ]
  },
  {
   "cell_type": "code",
   "execution_count": 9,
   "id": "deea1471",
   "metadata": {},
   "outputs": [],
   "source": [
    "pop_adj_to_nl_outpath = (data_dir + \"int/GPW_pop/\"\n",
    "           \"gpw_v4_population_density_rev10_2015_30_sec_shifted_to_match_DMSP.tif\")\n",
    "\n",
    "dmsp_adj_to_pop_outpath = (data_dir + \"int/DMSP_NL/\"\n",
    "           \"DMSP_F182013.v4c_web.stable_lights.avg_vis_shifted_to_match_pop_raster.tif\")\n",
    "\n",
    "nl_adj = rasterio.open(dmsp_adj_to_pop_outpath)\n",
    "pop_adj = rasterio.open(pop_adj_to_nl_outpath)"
   ]
  },
  {
   "cell_type": "markdown",
   "id": "adafec53",
   "metadata": {},
   "source": [
    "### ADM2 "
   ]
  },
  {
   "cell_type": "code",
   "execution_count": null,
   "id": "93d83832",
   "metadata": {},
   "outputs": [],
   "source": [
    "file = data_dir + \"raw/geoBoundaries/geoBoundariesCGAZ_ADM2.geojson\"\n",
    "adm2 = gpd.read_file(file).set_index(\"shapeID\").rename(columns = {\"ADM1_shapeID\": \"ADM1_shape\"})"
   ]
  },
  {
   "cell_type": "code",
   "execution_count": null,
   "id": "74c4ef5b",
   "metadata": {},
   "outputs": [],
   "source": [
    "out_adm2 = get_avg_nl_and_weighted_avg_nl(adm2, raster_file=nl_adj, weight_raster =pop_adj)\n",
    "out_adm2 = correct_nl_Ys(out_adm2, adm2, raster_file=nl_adj)\n",
    "\n",
    "out_adm2.to_pickle(data_dir + \"nl_downscaling/nl_Ys/dmsp_avg_nl_Ys_geoB_adm2.p\")"
   ]
  },
  {
   "cell_type": "markdown",
   "id": "c2d29d70",
   "metadata": {},
   "source": [
    "### ADM1 -- from ADM2 geoBoundaries shapefile dissolved"
   ]
  },
  {
   "cell_type": "code",
   "execution_count": null,
   "id": "693377d3",
   "metadata": {},
   "outputs": [],
   "source": [
    "adm1_geoboundaries = adm2.dissolve(\"ADM1_shape\")\n",
    "out_adm1 = get_avg_nl_and_weighted_avg_nl(adm1_geoboundaries, raster_file=nl_adj, weight_raster =pop_adj)\n",
    "out_adm1 = correct_nl_Ys(out_adm1, adm1_geoboundaries, raster_file=nl_adj)\n",
    "\n",
    "out_adm1.to_pickle(data_dir + \"nl_downscaling/nl_Ys/dmsp_avg_nl_Ys_geoB_adm1.p\")"
   ]
  },
  {
   "cell_type": "markdown",
   "id": "a541f963",
   "metadata": {},
   "source": [
    "### ADM0 -- from ADM2 geoBoundaries shapefile dissolved"
   ]
  },
  {
   "cell_type": "code",
   "execution_count": null,
   "id": "fcbe3ade",
   "metadata": {},
   "outputs": [],
   "source": [
    "adm0_geoboundaries = adm2.dissolve(\"shapeGroup\")\n",
    "out_adm0 = get_avg_nl_and_weighted_avg_nl(adm0_geoboundaries, raster_file=nl_adj, weight_raster =pop_adj)\n",
    "out_adm0 = correct_nl_Ys(out_adm0, adm0_geoboundaries, raster_file=nl_adj)\n",
    "out_adm0.to_pickle(data_dir + \"nl_downscaling/nl_Ys/dmsp_avg_nl_Ys_geoB_adm0.p\")\n"
   ]
  },
  {
   "cell_type": "code",
   "execution_count": null,
   "id": "a74cc57e",
   "metadata": {},
   "outputs": [],
   "source": []
  }
 ],
 "metadata": {
  "kernelspec": {
   "display_name": "Python 3 (ipykernel)",
   "language": "python",
   "name": "python3"
  },
  "language_info": {
   "codemirror_mode": {
    "name": "ipython",
    "version": 3
   },
   "file_extension": ".py",
   "mimetype": "text/x-python",
   "name": "python",
   "nbconvert_exporter": "python",
   "pygments_lexer": "ipython3",
   "version": "3.7.15"
  }
 },
 "nbformat": 4,
 "nbformat_minor": 5
}
