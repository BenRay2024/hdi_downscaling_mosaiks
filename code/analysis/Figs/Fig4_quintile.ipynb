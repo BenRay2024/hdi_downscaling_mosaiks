{
 "cells": [
  {
   "cell_type": "code",
   "execution_count": 1,
   "id": "3c7728f0",
   "metadata": {},
   "outputs": [],
   "source": [
    "import os\n",
    "repo_dir = os.environ.get(\"REPO_DIR\")\n",
    "code_dir = os.path.join(repo_dir, \"code/\")\n",
    "data_dir = os.path.join(repo_dir, \"data/\")\n",
    "os.chdir(code_dir)\n",
    "\n",
    "import matplotlib.pyplot as plt\n",
    "import numpy as np\n",
    "import scipy.linalg\n",
    "import pickle\n",
    "import sklearn \n",
    "import sys\n",
    "import pandas as pd\n",
    "from importlib import reload\n",
    "\n",
    "from sklearn.model_selection import KFold\n",
    "from sklearn.linear_model import Ridge\n",
    "import seaborn as sns\n",
    "\n",
    "from scipy.stats import spearmanr\n",
    "\n",
    "import geopandas as gpd\n",
    "\n",
    "import warnings\n",
    "\n",
    "from mosaiks.utils.imports import *\n",
    "\n",
    "\n",
    "# Key prediction functions are here\n",
    "from analysis.prediction_utils import (X_matrix_to_demeaned_X, df_to_demeaned_y_vars,\n",
    "make_train_pred_scatterplot as make_scatterplot, cv_solve, solver_kwargs, get_truth_preds_from_kfold_results,\n",
    "                             predict_y_from_kfold_dict, generalized_demean)"
   ]
  },
  {
   "cell_type": "markdown",
   "id": "2ae3d139",
   "metadata": {},
   "source": [
    "# Movement in quintile analysis\n",
    "\n",
    "Here we compare quintile assignments for the global population using ADM1 data and compare to assignments based on our newly created ADM2 and grid-level data products.\n",
    "\n",
    "This notebook is fully replicable with only code and data in the GitHub repo."
   ]
  },
  {
   "cell_type": "markdown",
   "id": "57bced26",
   "metadata": {},
   "source": [
    "## Set colors"
   ]
  },
  {
   "cell_type": "code",
   "execution_count": 2,
   "id": "1fd470ce",
   "metadata": {},
   "outputs": [],
   "source": [
    "from matplotlib.cm import get_cmap\n",
    "\n",
    "cmap = get_cmap('plasma')\n",
    "color1 = cmap(0.1)\n",
    "color2 = cmap(0.55)\n",
    "color3 = cmap(0.9)"
   ]
  },
  {
   "cell_type": "markdown",
   "id": "fc01b875",
   "metadata": {},
   "source": [
    "## Define functions"
   ]
  },
  {
   "cell_type": "code",
   "execution_count": 3,
   "id": "ad0f4d17",
   "metadata": {},
   "outputs": [],
   "source": [
    "def get_country_bins(df,country, pop_weight=True, true_colname=\"adm2_pred\", alt_colname=\"adm1_truth\", \n",
    "                     diff_threshs = False):\n",
    "    \"\"\"\n",
    "    For a country, e.g., \"ETH\" asssume all population within country has ADM2 HDI consistent with our preds.\n",
    "    \n",
    "    Set up quintile bins based on the population and the known ADM2 values.\n",
    "    \n",
    "    Assign a numeric (1-5) quintile bin to each ADM2 observation using ADM2 predictions\n",
    "    \n",
    "    Assign a numeric (1-5) quintile bin to each ADM2 observation using only the ADM1 observation.\n",
    "    \"\"\"\n",
    "    inc_country = df[df[\"shapeGroup\"] == country].copy()\n",
    "    \n",
    "    if pop_weight:\n",
    "        pops = []\n",
    "        alt_pops = []\n",
    "        for i, row in inc_country.iterrows():\n",
    "            a = np.full(row[\"total_pop\"], row[true_colname])\n",
    "            pops.append(a)\n",
    "            \n",
    "            if diff_threshs:\n",
    "                b = np.full(row[\"total_pop\"],row[alt_colname])\n",
    "                alt_pops.append(b)\n",
    "        pops = np.hstack(pops)\n",
    "        threshs = np.quantile(pops, [0.2,.4,.6,.8])\n",
    "        del pops\n",
    "        \n",
    "        if diff_threshs:\n",
    "            alt_pops = np.hstack(alt_pops)\n",
    "        \n",
    "            alt_threshs = np.quantile(alt_pops, [0.2,.4,.6,.8])\n",
    "            \n",
    "            del alt_pops\n",
    "        else:\n",
    "            alt_threshs = threshs\n",
    "    else:\n",
    "        threshs = np.quantile(inc_country[true_colname], [0.2,.4,.6,.8])\n",
    "        \n",
    "        if diff_threshs:\n",
    "            alt_threshs = np.quantile(inc_country[alt_colname], [0.2,.4,.6,.8])\n",
    "        else:\n",
    "            alt_threshs = threshs\n",
    "    \n",
    "    inc_country[\"true_bin\"] = np.nan\n",
    "    inc_country[\"alt_bin\"] = np.nan\n",
    "    \n",
    "    inc_country.loc[inc_country[true_colname] < threshs[0],\"true_bin\"] = 1\n",
    "    inc_country.loc[inc_country[true_colname] > threshs[3],\"true_bin\"] = 5\n",
    "    ## These are going to be bias toward the middle quartile\n",
    "    inc_country.loc[((inc_country[true_colname] >= threshs[0]) & (inc_country[true_colname] < threshs[1]) ),\"true_bin\"] = 2\n",
    "    inc_country.loc[((inc_country[true_colname] > threshs[2]) & (inc_country[true_colname] <= threshs[3]) ),\"true_bin\"] = 4\n",
    "    inc_country.loc[((inc_country[true_colname] >= threshs[1]) & (inc_country[true_colname] <= threshs[2]) ),\"true_bin\"] = 3\n",
    "    \n",
    "    \n",
    "    inc_country.loc[inc_country[alt_colname] < alt_threshs[0],\"alt_bin\"] = 1\n",
    "    inc_country.loc[inc_country[alt_colname] > alt_threshs[3],\"alt_bin\"] = 5\n",
    "    \n",
    "    inc_country.loc[((inc_country[alt_colname] >= alt_threshs[0]) & (inc_country[alt_colname] < alt_threshs[1]) ),\"alt_bin\"] = 2\n",
    "    inc_country.loc[((inc_country[alt_colname] > alt_threshs[2]) & (inc_country[alt_colname] <= alt_threshs[3]) ),\"alt_bin\"] = 4\n",
    "        \n",
    "    inc_country.loc[((inc_country[alt_colname] >= alt_threshs[1]) & (inc_country[alt_colname] <= alt_threshs[2]) ),\"alt_bin\"] = 3\n",
    "\n",
    "\n",
    "    \n",
    "    return inc_country\n",
    "    "
   ]
  },
  {
   "cell_type": "code",
   "execution_count": 4,
   "id": "fd0f0be1",
   "metadata": {},
   "outputs": [],
   "source": [
    "def tot_array(data, inc=5):\n",
    "    arr = []\n",
    "    for i in range(inc):\n",
    "        start = i * inc\n",
    "        end = start + inc\n",
    "        tot = data.iloc[start:end].sum()\n",
    "        arr.append(np.full(inc,tot))\n",
    "    return np.hstack(arr)"
   ]
  },
  {
   "cell_type": "code",
   "execution_count": 5,
   "id": "eca6359e",
   "metadata": {},
   "outputs": [],
   "source": [
    "def add_missing_zeros(data):\n",
    "\n",
    "    for i in range(1,6):\n",
    "        for j in range(1,6):\n",
    "            try:\n",
    "                data.loc[(i,j)]\n",
    "            except:\n",
    "                data.loc[(i,j)] = 0\n",
    "    return data.reset_index().groupby([\"true_bin\", \"alt_bin\"])[\"total_pop\"].sum()"
   ]
  },
  {
   "cell_type": "code",
   "execution_count": 6,
   "id": "b694d1bc",
   "metadata": {},
   "outputs": [],
   "source": [
    "def make_bar_plot(df, pop_weight=True, \n",
    "                  alt_bin_text = \"ADM1 assumed quintile = \", \n",
    "                  true_bin_text = \"Predicted \\nquintile = \",\n",
    "                 x_lab_text = \" \\nMunicipality-level HDI quintile (this study)\",\n",
    "                 legend_title = \"Province-level HDI quintile (Smits & Permanyer)\", \n",
    "                  savepath = None):\n",
    "    if pop_weight:\n",
    "        data = df.groupby([\"true_bin\", \"alt_bin\"])[\"total_pop\"].sum()\n",
    "    \n",
    "    else:\n",
    "        data = df.groupby([\"true_bin\", \"alt_bin\"])[\"total_pop\"].count()\n",
    "    \n",
    "    data = add_missing_zeros(data)\n",
    "    \n",
    "    data_perc = data/tot_array(data)\n",
    "    data_df = data_perc.reset_index()\n",
    "    \n",
    "    data_df[\"true_bin_lab\"] = true_bin_text + data_df[\"true_bin\"].astype(int).astype(str)\n",
    "    data_df[\"alt_bin_lab\"] = alt_bin_text + data_df[\"alt_bin\"].astype(int).astype(str)\n",
    "    \n",
    "    \n",
    "    fig, ax = plt.subplots(figsize=(10,10))\n",
    "    labels = data_df[\"alt_bin_lab\"].unique()\n",
    "\n",
    "    for i, label in enumerate(labels):\n",
    "        rgba = cmap((i+3)/7)\n",
    "        if i == 0:\n",
    "            tots = np.full(5,0)\n",
    "        subset = data_df[data_df[\"alt_bin_lab\"] == label]\n",
    "        values = subset[\"total_pop\"].to_numpy() * 100\n",
    "        names = subset[\"true_bin_lab\"]\n",
    "\n",
    "        hatch = [None,None,None,None,None]\n",
    "        hatch[i] = '/'\n",
    "        bar = ax.bar(names,values, width=0.35, label = label, bottom=tots, color=rgba, hatch=hatch,\n",
    "                     edgecolor='white',\n",
    "                    linewidth=0)\n",
    "        tots = values+tots\n",
    "        val_prnt = pd.Series(values.round().astype(int).astype(str)) + \"%\"\n",
    "        val_prnt[values < 3.5] = \"\"\n",
    "\n",
    "        ax.bar_label(bar, labels = val_prnt, label_type=\"center\", color=\"black\", size=14.5) \n",
    "\n",
    "    leg = ax.legend(bbox_to_anchor=(.9, 1.12),title=legend_title, frameon=True, prop={'size':16}, \n",
    "                    title_fontsize=16,ncol=5)\n",
    "    leg._legend_box.align = \"top\"\n",
    "    leg._legend_box.sep = 10\n",
    "\n",
    "    ax.set_xlabel(x_lab_text, size=16)\n",
    "    ax.tick_params(axis='x', labelsize=14 )\n",
    "    ax.tick_params(axis='y', labelsize=14 )\n",
    "    \n",
    "    ax.set_ylim(0,100)\n",
    "    if pop_weight:\n",
    "        ax.set_ylabel(\"Population (%)\", size=16)\n",
    "    else:\n",
    "        ax.set_ylabel(\"ADM2 obs (%)\", size=16)\n",
    "    if savepath:\n",
    "        fig.savefig(savepath, dpi=300, bbox_inches=\"tight\")"
   ]
  },
  {
   "cell_type": "code",
   "execution_count": 7,
   "id": "d653e2e1",
   "metadata": {},
   "outputs": [],
   "source": [
    "data = pd.read_csv(data_dir + \"preds/hdi_preds_at_adm2.csv\").rename(\n",
    "columns = {\"predicted_adm2_HDI\":\"adm2_pred\",\"adm1_HDI_Smits\":\"adm1_truth\", \n",
    "          \"est_total_pop\":\"total_pop\"})\n",
    "    \n",
    "data = data.loc[data[\"adm2_pred\"].dropna().index]"
   ]
  },
  {
   "cell_type": "code",
   "execution_count": 8,
   "id": "20062420",
   "metadata": {},
   "outputs": [
    {
     "data": {
      "text/html": [
       "<div>\n",
       "<style scoped>\n",
       "    .dataframe tbody tr th:only-of-type {\n",
       "        vertical-align: middle;\n",
       "    }\n",
       "\n",
       "    .dataframe tbody tr th {\n",
       "        vertical-align: top;\n",
       "    }\n",
       "\n",
       "    .dataframe thead th {\n",
       "        text-align: right;\n",
       "    }\n",
       "</style>\n",
       "<table border=\"1\" class=\"dataframe\">\n",
       "  <thead>\n",
       "    <tr style=\"text-align: right;\">\n",
       "      <th></th>\n",
       "      <th>shapeID</th>\n",
       "      <th>shapeName</th>\n",
       "      <th>shapeGroup</th>\n",
       "      <th>ADM1_shapeID</th>\n",
       "      <th>GDL_ADM1</th>\n",
       "      <th>percent_overlap_GDL_ADM1</th>\n",
       "      <th>adm1_truth</th>\n",
       "      <th>total_pop</th>\n",
       "      <th>adm2_pred</th>\n",
       "    </tr>\n",
       "  </thead>\n",
       "  <tbody>\n",
       "    <tr>\n",
       "      <th>0</th>\n",
       "      <td>BRN-ADM2-3_0_0-B1</td>\n",
       "      <td>Kota Batu</td>\n",
       "      <td>BRN</td>\n",
       "      <td>BRN-ADM1-3_0_0-B3</td>\n",
       "      <td>BRNt</td>\n",
       "      <td>87.00</td>\n",
       "      <td>0.830</td>\n",
       "      <td>17107</td>\n",
       "      <td>0.858260</td>\n",
       "    </tr>\n",
       "    <tr>\n",
       "      <th>1</th>\n",
       "      <td>BRN-ADM2-3_0_0-B2</td>\n",
       "      <td>Kilanas</td>\n",
       "      <td>BRN</td>\n",
       "      <td>BRN-ADM1-3_0_0-B3</td>\n",
       "      <td>BRNt</td>\n",
       "      <td>100.00</td>\n",
       "      <td>0.830</td>\n",
       "      <td>22920</td>\n",
       "      <td>0.885290</td>\n",
       "    </tr>\n",
       "    <tr>\n",
       "      <th>2</th>\n",
       "      <td>BRN-ADM2-3_0_0-B3</td>\n",
       "      <td>Tanjong Maya</td>\n",
       "      <td>BRN</td>\n",
       "      <td>BRN-ADM1-3_0_0-B4</td>\n",
       "      <td>BRNt</td>\n",
       "      <td>100.00</td>\n",
       "      <td>0.830</td>\n",
       "      <td>3933</td>\n",
       "      <td>0.831030</td>\n",
       "    </tr>\n",
       "    <tr>\n",
       "      <th>3</th>\n",
       "      <td>BRN-ADM2-3_0_0-B4</td>\n",
       "      <td>Serasa</td>\n",
       "      <td>BRN</td>\n",
       "      <td>BRN-ADM1-3_0_0-B3</td>\n",
       "      <td>BRNt</td>\n",
       "      <td>96.12</td>\n",
       "      <td>0.830</td>\n",
       "      <td>11236</td>\n",
       "      <td>0.872700</td>\n",
       "    </tr>\n",
       "    <tr>\n",
       "      <th>4</th>\n",
       "      <td>BRN-ADM2-3_0_0-B5</td>\n",
       "      <td>Mentiri</td>\n",
       "      <td>BRN</td>\n",
       "      <td>BRN-ADM1-3_0_0-B3</td>\n",
       "      <td>BRNt</td>\n",
       "      <td>99.23</td>\n",
       "      <td>0.830</td>\n",
       "      <td>22043</td>\n",
       "      <td>0.884521</td>\n",
       "    </tr>\n",
       "    <tr>\n",
       "      <th>...</th>\n",
       "      <td>...</td>\n",
       "      <td>...</td>\n",
       "      <td>...</td>\n",
       "      <td>...</td>\n",
       "      <td>...</td>\n",
       "      <td>...</td>\n",
       "      <td>...</td>\n",
       "      <td>...</td>\n",
       "      <td>...</td>\n",
       "    </tr>\n",
       "    <tr>\n",
       "      <th>111912</th>\n",
       "      <td>ZWE-ADM2-3_0_0-B85</td>\n",
       "      <td>Kwekwe Urban</td>\n",
       "      <td>ZWE</td>\n",
       "      <td>ZWE-ADM1-3_0_0-B6</td>\n",
       "      <td>ZWEr107</td>\n",
       "      <td>100.00</td>\n",
       "      <td>0.598</td>\n",
       "      <td>77013</td>\n",
       "      <td>0.662526</td>\n",
       "    </tr>\n",
       "    <tr>\n",
       "      <th>111913</th>\n",
       "      <td>ZWE-ADM2-3_0_0-B86</td>\n",
       "      <td>Epworth</td>\n",
       "      <td>ZWE</td>\n",
       "      <td>ZWE-ADM1-3_0_0-B10</td>\n",
       "      <td>ZWEr109</td>\n",
       "      <td>87.72</td>\n",
       "      <td>0.674</td>\n",
       "      <td>159255</td>\n",
       "      <td>0.678373</td>\n",
       "    </tr>\n",
       "    <tr>\n",
       "      <th>111914</th>\n",
       "      <td>ZWE-ADM2-3_0_0-B87</td>\n",
       "      <td>Ruwa</td>\n",
       "      <td>ZWE</td>\n",
       "      <td>ZWE-ADM1-3_0_0-B9</td>\n",
       "      <td>ZWEr103</td>\n",
       "      <td>91.10</td>\n",
       "      <td>0.588</td>\n",
       "      <td>53995</td>\n",
       "      <td>0.652975</td>\n",
       "    </tr>\n",
       "    <tr>\n",
       "      <th>111915</th>\n",
       "      <td>ZWE-ADM2-3_0_0-B88</td>\n",
       "      <td>Bindura Urban</td>\n",
       "      <td>ZWE</td>\n",
       "      <td>ZWE-ADM1-3_0_0-B4</td>\n",
       "      <td>ZWEr102</td>\n",
       "      <td>100.00</td>\n",
       "      <td>0.542</td>\n",
       "      <td>34069</td>\n",
       "      <td>0.645850</td>\n",
       "    </tr>\n",
       "    <tr>\n",
       "      <th>111916</th>\n",
       "      <td>ZWE-ADM2-3_0_0-B89</td>\n",
       "      <td>Chegutu Urban</td>\n",
       "      <td>ZWE</td>\n",
       "      <td>ZWE-ADM1-3_0_0-B8</td>\n",
       "      <td>ZWEr104</td>\n",
       "      <td>100.00</td>\n",
       "      <td>0.567</td>\n",
       "      <td>45248</td>\n",
       "      <td>0.620475</td>\n",
       "    </tr>\n",
       "  </tbody>\n",
       "</table>\n",
       "<p>61530 rows × 9 columns</p>\n",
       "</div>"
      ],
      "text/plain": [
       "                   shapeID      shapeName shapeGroup        ADM1_shapeID  \\\n",
       "0        BRN-ADM2-3_0_0-B1      Kota Batu        BRN   BRN-ADM1-3_0_0-B3   \n",
       "1        BRN-ADM2-3_0_0-B2        Kilanas        BRN   BRN-ADM1-3_0_0-B3   \n",
       "2        BRN-ADM2-3_0_0-B3   Tanjong Maya        BRN   BRN-ADM1-3_0_0-B4   \n",
       "3        BRN-ADM2-3_0_0-B4         Serasa        BRN   BRN-ADM1-3_0_0-B3   \n",
       "4        BRN-ADM2-3_0_0-B5        Mentiri        BRN   BRN-ADM1-3_0_0-B3   \n",
       "...                    ...            ...        ...                 ...   \n",
       "111912  ZWE-ADM2-3_0_0-B85   Kwekwe Urban        ZWE   ZWE-ADM1-3_0_0-B6   \n",
       "111913  ZWE-ADM2-3_0_0-B86        Epworth        ZWE  ZWE-ADM1-3_0_0-B10   \n",
       "111914  ZWE-ADM2-3_0_0-B87           Ruwa        ZWE   ZWE-ADM1-3_0_0-B9   \n",
       "111915  ZWE-ADM2-3_0_0-B88  Bindura Urban        ZWE   ZWE-ADM1-3_0_0-B4   \n",
       "111916  ZWE-ADM2-3_0_0-B89  Chegutu Urban        ZWE   ZWE-ADM1-3_0_0-B8   \n",
       "\n",
       "       GDL_ADM1  percent_overlap_GDL_ADM1  adm1_truth  total_pop  adm2_pred  \n",
       "0          BRNt                     87.00       0.830      17107   0.858260  \n",
       "1          BRNt                    100.00       0.830      22920   0.885290  \n",
       "2          BRNt                    100.00       0.830       3933   0.831030  \n",
       "3          BRNt                     96.12       0.830      11236   0.872700  \n",
       "4          BRNt                     99.23       0.830      22043   0.884521  \n",
       "...         ...                       ...         ...        ...        ...  \n",
       "111912  ZWEr107                    100.00       0.598      77013   0.662526  \n",
       "111913  ZWEr109                     87.72       0.674     159255   0.678373  \n",
       "111914  ZWEr103                     91.10       0.588      53995   0.652975  \n",
       "111915  ZWEr102                    100.00       0.542      34069   0.645850  \n",
       "111916  ZWEr104                    100.00       0.567      45248   0.620475  \n",
       "\n",
       "[61530 rows x 9 columns]"
      ]
     },
     "execution_count": 8,
     "metadata": {},
     "output_type": "execute_result"
    }
   ],
   "source": [
    "data"
   ]
  },
  {
   "cell_type": "code",
   "execution_count": 9,
   "id": "24c2806d",
   "metadata": {},
   "outputs": [],
   "source": [
    "unique_countries = np.unique(data[\"shapeGroup\"])"
   ]
  },
  {
   "cell_type": "markdown",
   "id": "e3941911",
   "metadata": {},
   "source": [
    "## ADM2 v ADM1 Analysis\n",
    "#### Run with varied thresholds and population weighting"
   ]
  },
  {
   "cell_type": "code",
   "execution_count": 10,
   "id": "77a80463",
   "metadata": {},
   "outputs": [],
   "source": [
    "stack_incs = []\n",
    "\n",
    "for country in unique_countries:\n",
    "    stack_incs.append(get_country_bins(data, country, diff_threshs=True))\n",
    "incs_and_bin = pd.concat(stack_incs)"
   ]
  },
  {
   "cell_type": "code",
   "execution_count": 11,
   "id": "7232b222",
   "metadata": {},
   "outputs": [],
   "source": [
    "data_pop = incs_and_bin.groupby([\"true_bin\", \"alt_bin\"])[\"total_pop\"].sum()"
   ]
  },
  {
   "cell_type": "code",
   "execution_count": 12,
   "id": "b3a0e4cd",
   "metadata": {},
   "outputs": [
    {
     "data": {
      "image/png": "[encoded data removed]",
      "text/plain": [
       "<Figure size 1000x1000 with 1 Axes>"
      ]
     },
     "metadata": {},
     "output_type": "display_data"
    }
   ],
   "source": [
    "make_bar_plot(incs_and_bin, pop_weight=True, alt_bin_text = \"\", true_bin_text = \"\", \n",
    "              savepath=repo_dir + \"figures/Figure4A.pdf\",\n",
    "              #savepath=None\n",
    "             )"
   ]
  },
  {
   "cell_type": "markdown",
   "id": "f9cbf5c9",
   "metadata": {},
   "source": [
    "### Try version as confusion matrix"
   ]
  },
  {
   "cell_type": "code",
   "execution_count": 13,
   "id": "4c5c0c1c",
   "metadata": {},
   "outputs": [],
   "source": [
    "def make_confusion(data_pop, savepath=None, vmin=.4,vmax=52, ystr=\"Municipality\"):\n",
    "    melted = data_pop.reset_index().pivot(index='true_bin', columns='alt_bin')\n",
    "    melted_d = melted.divide((melted.sum(axis=1)).to_numpy(),axis=1)\n",
    "    melted_d.index = np.arange(1,6)\n",
    "    melted_d.columns = np.arange(1,6)\n",
    "    rounded = np.round(melted_d * 100,1)\n",
    "    \n",
    "    fig, ax= plt.subplots()\n",
    "    sns.heatmap(rounded, annot=rounded.astype(str) + \"%\",\n",
    "                fmt='', ax=ax,cmap=\"plasma\", cbar_kws={\"label\":\"Population (%)\"},\n",
    "               vmin=vmin,vmax=vmax)\n",
    "\n",
    "    ax.set_xlabel(\"Province-level HDI quintile (Smits and Permanyer, 2019)\")\n",
    "    ax.set_ylabel(f\"{ystr}-level HDI quintile (this study)\")\n",
    "    \n",
    "    if savepath:\n",
    "        fig.savefig(savepath, transparent=True)\n",
    "        \n",
    "        \n",
    "### Note that these numbers do not match the numbers shown above! \n",
    "## Depeneds on what we divide by. Total pop or sum within each bin.\n",
    "## The interpretation is that this shows % global population that moves.\n",
    "## The other way shows % of each quintile"
   ]
  },
  {
   "cell_type": "code",
   "execution_count": 14,
   "id": "c10053be",
   "metadata": {},
   "outputs": [],
   "source": [
    "#make_confusion(data_pop, savepath=None)"
   ]
  },
  {
   "cell_type": "markdown",
   "id": "e1de93cd",
   "metadata": {},
   "source": [
    "#### Calculate summary stats"
   ]
  },
  {
   "cell_type": "code",
   "execution_count": 15,
   "id": "3f166f31",
   "metadata": {},
   "outputs": [
    {
     "name": "stdout",
     "output_type": "stream",
     "text": [
      "percent global pop in each adm1 bin\n"
     ]
    },
    {
     "data": {
      "text/plain": [
       "alt_bin\n",
       "1.0    0.135046\n",
       "2.0    0.208489\n",
       "3.0    0.329652\n",
       "4.0    0.182068\n",
       "5.0    0.144745\n",
       "Name: total_pop, dtype: float64"
      ]
     },
     "execution_count": 15,
     "metadata": {},
     "output_type": "execute_result"
    }
   ],
   "source": [
    "# % Global pop in each ADM1 bin\n",
    "print(\"percent global pop in each adm1 bin\")\n",
    "incs_and_bin.groupby(\"alt_bin\")[\"total_pop\"].sum() / incs_and_bin[\"total_pop\"].sum()"
   ]
  },
  {
   "cell_type": "code",
   "execution_count": 16,
   "id": "b1236aae",
   "metadata": {},
   "outputs": [
    {
     "name": "stdout",
     "output_type": "stream",
     "text": [
      "Percent of global pop by quintile change\n"
     ]
    },
    {
     "data": {
      "text/plain": [
       "diff_bin\n",
       "0.0    44.104418\n",
       "1.0    41.597923\n",
       "2.0    12.369902\n",
       "3.0     1.721967\n",
       "4.0     0.205790\n",
       "Name: total_pop, dtype: float64"
      ]
     },
     "execution_count": 16,
     "metadata": {},
     "output_type": "execute_result"
    }
   ],
   "source": [
    "### Bin change stats -- how many quintiles did people move?\n",
    "incs_and_bin[\"diff_bin\"] = np.abs(incs_and_bin[\"true_bin\"] - incs_and_bin[\"alt_bin\"])\n",
    "\n",
    "diffs = incs_and_bin.groupby(\"diff_bin\")[\"total_pop\"].sum()\n",
    "print(\"Percent of global pop by quintile change\")\n",
    "diffs/diffs.sum() * 100"
   ]
  },
  {
   "cell_type": "code",
   "execution_count": 17,
   "id": "2f36c7bc",
   "metadata": {},
   "outputs": [
    {
     "name": "stdout",
     "output_type": "stream",
     "text": [
      "Percent of population that are put into a different quintile: 55.89558187808979\n"
     ]
    }
   ],
   "source": [
    "print(\"Percent of population that are put into a different quintile:\",(1- (diffs/diffs.sum()).values[0] )* 100)\n"
   ]
  },
  {
   "cell_type": "code",
   "execution_count": 18,
   "id": "6cc611db",
   "metadata": {},
   "outputs": [],
   "source": [
    "#overall data\n",
    "\n",
    "dat = incs_and_bin.groupby([\"true_bin\",\"alt_bin\"])[\"total_pop\"].sum()\n",
    "perc_data = (dat / tot_array(dat)).reset_index()"
   ]
  },
  {
   "cell_type": "code",
   "execution_count": 19,
   "id": "4e99f527",
   "metadata": {},
   "outputs": [
    {
     "data": {
      "text/plain": [
       "5.0"
      ]
     },
     "execution_count": 19,
     "metadata": {},
     "output_type": "execute_result"
    }
   ],
   "source": [
    "perc_data[\"total_pop\"].sum() ### Each true bin sums to 1"
   ]
  },
  {
   "cell_type": "code",
   "execution_count": 20,
   "id": "c15b25c3",
   "metadata": {},
   "outputs": [
    {
     "name": "stdout",
     "output_type": "stream",
     "text": [
      "percent of bottom two that move from bottom two to top two:\n"
     ]
    },
    {
     "data": {
      "text/plain": [
       "7.30077188636282"
      ]
     },
     "execution_count": 20,
     "metadata": {},
     "output_type": "execute_result"
    }
   ],
   "source": [
    "### Get percent of bottom two quintiles that are now in top two\n",
    "perc_data = perc_data.reset_index()\n",
    "\n",
    "print(\"percent of bottom two that move from bottom two to top two:\")\n",
    "perc_data[ (perc_data[\"true_bin\"] > 3) & (perc_data[\"alt_bin\"] < 3)][\"total_pop\"].sum() /\\\n",
    "perc_data.loc[ (perc_data[\"true_bin\"] < 3),\"total_pop\"].sum() * 100"
   ]
  },
  {
   "cell_type": "markdown",
   "id": "8711e52f",
   "metadata": {},
   "source": [
    "## Grid Data v ADM1 Analysis"
   ]
  },
  {
   "cell_type": "code",
   "execution_count": 2,
   "id": "a2aec2a6",
   "metadata": {},
   "outputs": [],
   "source": [
    "grid_data = pd.read_pickle(data_dir + \"preds/\"\n",
    "           \"hdi_grid_predictions_flat_file.p\")"
   ]
  },
  {
   "cell_type": "code",
   "execution_count": 22,
   "id": "afec5a09",
   "metadata": {},
   "outputs": [],
   "source": [
    "pop_grid_path = data_dir + \"int/GPW_pop/pop_count_sums_for_.1x1_grid.p\"\n",
    "\n",
    "if not os.path.exists(pop_grid_path ):\n",
    "    #If it's not there, it probably needs to be unzipped\n",
    "    import shutil\n",
    "    shutil.unpack_archive(data_dir + \"int/GPW_pop/pop_count_sums_for_.1x1_grid.zip\", data_dir + \"int/GPW_pop/\")"
   ]
  },
  {
   "cell_type": "code",
   "execution_count": 23,
   "id": "37792c2d",
   "metadata": {},
   "outputs": [],
   "source": [
    "total_pop_grid = pd.read_pickle(data_dir + \"int/GPW_pop/pop_count_sums_for_.1x1_grid.p\")"
   ]
  },
  {
   "cell_type": "code",
   "execution_count": 24,
   "id": "238d574a",
   "metadata": {},
   "outputs": [],
   "source": [
    "grid_data = grid_data.merge(total_pop_grid, \"left\", on= [\"lon10\",\"lat10\"])"
   ]
  },
  {
   "cell_type": "code",
   "execution_count": 25,
   "id": "1fd046e9",
   "metadata": {},
   "outputs": [],
   "source": [
    "grid_data[\"pop_count\"] = grid_data[\"pop_count\"].round().astype(int)"
   ]
  },
  {
   "cell_type": "code",
   "execution_count": 26,
   "id": "f8b56d3a",
   "metadata": {},
   "outputs": [],
   "source": [
    "grid_data[\"shapeGroup\"] = grid_data[\"GDLCODE\"].apply(lambda x: x[:3])"
   ]
  },
  {
   "cell_type": "code",
   "execution_count": 27,
   "id": "ce172397",
   "metadata": {},
   "outputs": [],
   "source": [
    "grid_data.rename(columns = {\"pop_count\":\"total_pop\"}, inplace=True)"
   ]
  },
  {
   "cell_type": "code",
   "execution_count": 28,
   "id": "d1cf0155",
   "metadata": {},
   "outputs": [],
   "source": [
    "unique_countries = grid_data[\"shapeGroup\"].unique()"
   ]
  },
  {
   "cell_type": "code",
   "execution_count": 29,
   "id": "e8fd4a09",
   "metadata": {},
   "outputs": [],
   "source": [
    "stack_incs = []\n",
    "\n",
    "for country in unique_countries:\n",
    "    stack_incs.append(get_country_bins(grid_data, country = country, pop_weight=True, true_colname=\"clipped\", alt_colname=\"Sub-national HDI\", \n",
    "                     diff_threshs = True))\n",
    "incs_and_bin_grid = pd.concat(stack_incs)"
   ]
  },
  {
   "cell_type": "code",
   "execution_count": 30,
   "id": "a2307a1e",
   "metadata": {},
   "outputs": [
    {
     "data": {
      "image/png": "[encoded data removed]",
      "text/plain": [
       "<Figure size 1000x1000 with 1 Axes>"
      ]
     },
     "metadata": {},
     "output_type": "display_data"
    }
   ],
   "source": [
    "make_bar_plot(incs_and_bin_grid, pop_weight=True, alt_bin_text = \"\", true_bin_text = \"\", \n",
    "              savepath=repo_dir + \"figures/Figure4B.pdf\",\n",
    "              x_lab_text = \" \\nGrid-level HDI quintile (this study)\",\n",
    "              #savepath=None\n",
    "             )"
   ]
  },
  {
   "cell_type": "code",
   "execution_count": 31,
   "id": "a916b7b2",
   "metadata": {},
   "outputs": [
    {
     "name": "stdout",
     "output_type": "stream",
     "text": [
      "Percent of global pop by quintile change\n"
     ]
    },
    {
     "data": {
      "text/plain": [
       "diff_bin\n",
       "0.0    37.808782\n",
       "1.0    41.854371\n",
       "2.0    16.288754\n",
       "3.0     3.543151\n",
       "4.0     0.504942\n",
       "Name: total_pop, dtype: float64"
      ]
     },
     "execution_count": 31,
     "metadata": {},
     "output_type": "execute_result"
    }
   ],
   "source": [
    "### Bin change stats -- how many quintiles did people move?\n",
    "incs_and_bin_grid[\"diff_bin\"] = np.abs(incs_and_bin_grid[\"true_bin\"] - incs_and_bin_grid[\"alt_bin\"])\n",
    "\n",
    "diffs = incs_and_bin_grid.groupby(\"diff_bin\")[\"total_pop\"].sum()\n",
    "print(\"Percent of global pop by quintile change\")\n",
    "diffs/diffs.sum() * 100"
   ]
  },
  {
   "cell_type": "code",
   "execution_count": 32,
   "id": "095c02a6",
   "metadata": {},
   "outputs": [
    {
     "name": "stdout",
     "output_type": "stream",
     "text": [
      "Percent of population that are put into a different quintile: 62.19121782092591\n"
     ]
    }
   ],
   "source": [
    "print(\"Percent of population that are put into a different quintile:\",(1- (diffs/diffs.sum()).values[0] )* 100)\n"
   ]
  },
  {
   "cell_type": "code",
   "execution_count": 33,
   "id": "62a78d95",
   "metadata": {},
   "outputs": [
    {
     "name": "stdout",
     "output_type": "stream",
     "text": [
      "Percent of global pop by quintile change\n"
     ]
    },
    {
     "data": {
      "text/plain": [
       "diff_bin2\n",
       "-4.0     0.184579\n",
       "-3.0     1.757028\n",
       "-2.0     7.886310\n",
       "-1.0    20.549517\n",
       " 0.0    37.808782\n",
       " 1.0    21.304854\n",
       " 2.0     8.402444\n",
       " 3.0     1.786123\n",
       " 4.0     0.320363\n",
       "Name: total_pop, dtype: float64"
      ]
     },
     "execution_count": 33,
     "metadata": {},
     "output_type": "execute_result"
    }
   ],
   "source": [
    "### Bin change stats -- how many quintiles did people move - with directionality?\n",
    "incs_and_bin_grid[\"diff_bin2\"] = incs_and_bin_grid[\"true_bin\"] - incs_and_bin_grid[\"alt_bin\"]\n",
    "\n",
    "diffs = incs_and_bin_grid.groupby(\"diff_bin2\")[\"total_pop\"].sum()\n",
    "print(\"Percent of global pop by quintile change\")\n",
    "diffs/diffs.sum() * 100"
   ]
  },
  {
   "cell_type": "code",
   "execution_count": 34,
   "id": "367e1862",
   "metadata": {},
   "outputs": [
    {
     "data": {
      "text/html": [
       "<div>\n",
       "<style scoped>\n",
       "    .dataframe tbody tr th:only-of-type {\n",
       "        vertical-align: middle;\n",
       "    }\n",
       "\n",
       "    .dataframe tbody tr th {\n",
       "        vertical-align: top;\n",
       "    }\n",
       "\n",
       "    .dataframe thead th {\n",
       "        text-align: right;\n",
       "    }\n",
       "</style>\n",
       "<table border=\"1\" class=\"dataframe\">\n",
       "  <thead>\n",
       "    <tr style=\"text-align: right;\">\n",
       "      <th></th>\n",
       "      <th>true_bin</th>\n",
       "      <th>alt_bin</th>\n",
       "      <th>total_pop</th>\n",
       "    </tr>\n",
       "  </thead>\n",
       "  <tbody>\n",
       "    <tr>\n",
       "      <th>0</th>\n",
       "      <td>1.0</td>\n",
       "      <td>1.0</td>\n",
       "      <td>0.402195</td>\n",
       "    </tr>\n",
       "    <tr>\n",
       "      <th>1</th>\n",
       "      <td>1.0</td>\n",
       "      <td>2.0</td>\n",
       "      <td>0.293815</td>\n",
       "    </tr>\n",
       "    <tr>\n",
       "      <th>2</th>\n",
       "      <td>1.0</td>\n",
       "      <td>3.0</td>\n",
       "      <td>0.235953</td>\n",
       "    </tr>\n",
       "    <tr>\n",
       "      <th>3</th>\n",
       "      <td>1.0</td>\n",
       "      <td>4.0</td>\n",
       "      <td>0.058787</td>\n",
       "    </tr>\n",
       "    <tr>\n",
       "      <th>4</th>\n",
       "      <td>1.0</td>\n",
       "      <td>5.0</td>\n",
       "      <td>0.009250</td>\n",
       "    </tr>\n",
       "    <tr>\n",
       "      <th>5</th>\n",
       "      <td>2.0</td>\n",
       "      <td>1.0</td>\n",
       "      <td>0.185180</td>\n",
       "    </tr>\n",
       "    <tr>\n",
       "      <th>6</th>\n",
       "      <td>2.0</td>\n",
       "      <td>2.0</td>\n",
       "      <td>0.301050</td>\n",
       "    </tr>\n",
       "    <tr>\n",
       "      <th>7</th>\n",
       "      <td>2.0</td>\n",
       "      <td>3.0</td>\n",
       "      <td>0.380222</td>\n",
       "    </tr>\n",
       "    <tr>\n",
       "      <th>8</th>\n",
       "      <td>2.0</td>\n",
       "      <td>4.0</td>\n",
       "      <td>0.104319</td>\n",
       "    </tr>\n",
       "    <tr>\n",
       "      <th>9</th>\n",
       "      <td>2.0</td>\n",
       "      <td>5.0</td>\n",
       "      <td>0.029228</td>\n",
       "    </tr>\n",
       "    <tr>\n",
       "      <th>10</th>\n",
       "      <td>3.0</td>\n",
       "      <td>1.0</td>\n",
       "      <td>0.096282</td>\n",
       "    </tr>\n",
       "    <tr>\n",
       "      <th>11</th>\n",
       "      <td>3.0</td>\n",
       "      <td>2.0</td>\n",
       "      <td>0.195857</td>\n",
       "    </tr>\n",
       "    <tr>\n",
       "      <th>12</th>\n",
       "      <td>3.0</td>\n",
       "      <td>3.0</td>\n",
       "      <td>0.469594</td>\n",
       "    </tr>\n",
       "    <tr>\n",
       "      <th>13</th>\n",
       "      <td>3.0</td>\n",
       "      <td>4.0</td>\n",
       "      <td>0.184050</td>\n",
       "    </tr>\n",
       "    <tr>\n",
       "      <th>14</th>\n",
       "      <td>3.0</td>\n",
       "      <td>5.0</td>\n",
       "      <td>0.054217</td>\n",
       "    </tr>\n",
       "    <tr>\n",
       "      <th>15</th>\n",
       "      <td>4.0</td>\n",
       "      <td>1.0</td>\n",
       "      <td>0.046419</td>\n",
       "    </tr>\n",
       "    <tr>\n",
       "      <th>16</th>\n",
       "      <td>4.0</td>\n",
       "      <td>2.0</td>\n",
       "      <td>0.107650</td>\n",
       "    </tr>\n",
       "    <tr>\n",
       "      <th>17</th>\n",
       "      <td>4.0</td>\n",
       "      <td>3.0</td>\n",
       "      <td>0.383838</td>\n",
       "    </tr>\n",
       "    <tr>\n",
       "      <th>18</th>\n",
       "      <td>4.0</td>\n",
       "      <td>4.0</td>\n",
       "      <td>0.294780</td>\n",
       "    </tr>\n",
       "    <tr>\n",
       "      <th>19</th>\n",
       "      <td>4.0</td>\n",
       "      <td>5.0</td>\n",
       "      <td>0.167312</td>\n",
       "    </tr>\n",
       "    <tr>\n",
       "      <th>20</th>\n",
       "      <td>5.0</td>\n",
       "      <td>1.0</td>\n",
       "      <td>0.016256</td>\n",
       "    </tr>\n",
       "    <tr>\n",
       "      <th>21</th>\n",
       "      <td>5.0</td>\n",
       "      <td>2.0</td>\n",
       "      <td>0.043085</td>\n",
       "    </tr>\n",
       "    <tr>\n",
       "      <th>22</th>\n",
       "      <td>5.0</td>\n",
       "      <td>3.0</td>\n",
       "      <td>0.217537</td>\n",
       "    </tr>\n",
       "    <tr>\n",
       "      <th>23</th>\n",
       "      <td>5.0</td>\n",
       "      <td>4.0</td>\n",
       "      <td>0.299685</td>\n",
       "    </tr>\n",
       "    <tr>\n",
       "      <th>24</th>\n",
       "      <td>5.0</td>\n",
       "      <td>5.0</td>\n",
       "      <td>0.423437</td>\n",
       "    </tr>\n",
       "  </tbody>\n",
       "</table>\n",
       "</div>"
      ],
      "text/plain": [
       "    true_bin  alt_bin  total_pop\n",
       "0        1.0      1.0   0.402195\n",
       "1        1.0      2.0   0.293815\n",
       "2        1.0      3.0   0.235953\n",
       "3        1.0      4.0   0.058787\n",
       "4        1.0      5.0   0.009250\n",
       "5        2.0      1.0   0.185180\n",
       "6        2.0      2.0   0.301050\n",
       "7        2.0      3.0   0.380222\n",
       "8        2.0      4.0   0.104319\n",
       "9        2.0      5.0   0.029228\n",
       "10       3.0      1.0   0.096282\n",
       "11       3.0      2.0   0.195857\n",
       "12       3.0      3.0   0.469594\n",
       "13       3.0      4.0   0.184050\n",
       "14       3.0      5.0   0.054217\n",
       "15       4.0      1.0   0.046419\n",
       "16       4.0      2.0   0.107650\n",
       "17       4.0      3.0   0.383838\n",
       "18       4.0      4.0   0.294780\n",
       "19       4.0      5.0   0.167312\n",
       "20       5.0      1.0   0.016256\n",
       "21       5.0      2.0   0.043085\n",
       "22       5.0      3.0   0.217537\n",
       "23       5.0      4.0   0.299685\n",
       "24       5.0      5.0   0.423437"
      ]
     },
     "execution_count": 34,
     "metadata": {},
     "output_type": "execute_result"
    }
   ],
   "source": [
    "dat = incs_and_bin_grid.groupby([\"true_bin\",\"alt_bin\"])[\"total_pop\"].sum()\n",
    "perc_data = (dat / tot_array(dat)).reset_index()\n",
    "perc_data"
   ]
  },
  {
   "cell_type": "code",
   "execution_count": 37,
   "id": "96622cad",
   "metadata": {},
   "outputs": [
    {
     "name": "stdout",
     "output_type": "stream",
     "text": [
      "percent of bottom two that move from bottom two to top two:\n"
     ]
    },
    {
     "data": {
      "text/plain": [
       "10.670537844017948"
      ]
     },
     "execution_count": 37,
     "metadata": {},
     "output_type": "execute_result"
    }
   ],
   "source": [
    "### Get percent of bottom two quintiles that are now in top two\n",
    "perc_data = perc_data.reset_index()\n",
    "\n",
    "print(\"percent of bottom two that move from bottom two to top two:\")\n",
    "perc_data[ (perc_data[\"true_bin\"] > 3) & (perc_data[\"alt_bin\"] < 3)][\"total_pop\"].sum() /\\\n",
    "perc_data.loc[ (perc_data[\"true_bin\"] < 3),\"total_pop\"].sum() * 100"
   ]
  },
  {
   "cell_type": "code",
   "execution_count": 36,
   "id": "eaf78e4f",
   "metadata": {},
   "outputs": [],
   "source": [
    "#make_confusion(dat, savepath=None,ystr=\"Grid\")"
   ]
  },
  {
   "cell_type": "code",
   "execution_count": null,
   "id": "a7b49d9c",
   "metadata": {},
   "outputs": [],
   "source": []
  }
 ],
 "metadata": {
  "kernelspec": {
   "display_name": "Python 3 (ipykernel)",
   "language": "python",
   "name": "python3"
  },
  "language_info": {
   "codemirror_mode": {
    "name": "ipython",
    "version": 3
   },
   "file_extension": ".py",
   "mimetype": "text/x-python",
   "name": "python",
   "nbconvert_exporter": "python",
   "pygments_lexer": "ipython3",
   "version": "3.7.15"
  }
 },
 "nbformat": 4,
 "nbformat_minor": 5
}
